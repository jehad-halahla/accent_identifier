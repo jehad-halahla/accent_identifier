{
 "cells": [
  {
   "cell_type": "markdown",
   "id": "98758885-17fb-49ef-96e0-10f0033ba724",
   "metadata": {},
   "source": [
    "# Palestinian accents classifier project"
   ]
  },
  {
   "cell_type": "markdown",
   "id": "74658753-a4b4-40f8-9c4b-1f825836eb8c",
   "metadata": {},
   "source": [
    "### include the necessary libraries if they are not included"
   ]
  },
  {
   "cell_type": "code",
   "execution_count": 475,
   "id": "34775055-43a1-47af-bf97-5b06dbdbbae1",
   "metadata": {},
   "outputs": [],
   "source": [
    "import os\n",
    "import glob\n",
    "import librosa\n",
    "import numpy as np\n",
    "from sklearn.preprocessing import StandardScaler\n",
    "from sklearn.svm import SVC\n",
    "from sklearn.model_selection import GridSearchCV\n",
    "from sklearn.cluster import KMeans\n",
    "from sklearn.metrics import silhouette_score, classification_report, confusion_matrix, accuracy_score, ConfusionMatrixDisplay\n",
    "from sklearn.neighbors import KNeighborsClassifier\n",
    "import seaborn as sns\n",
    "import matplotlib.pyplot as plt\n",
    "from time import time\n",
    "import warnings\n",
    "warnings.filterwarnings('ignore')"
   ]
  },
  {
   "cell_type": "markdown",
   "id": "3815546b-17d7-4e9f-96b3-c1961477fa05",
   "metadata": {},
   "source": [
    "### function to load audio files"
   ]
  },
  {
   "cell_type": "code",
   "execution_count": 476,
   "id": "31790071-058a-4c2c-a3d8-fc2fa0b5a654",
   "metadata": {},
   "outputs": [],
   "source": [
    "def load_audio_files(base_path):\n",
    "    features = []\n",
    "    labels = []\n",
    "    accents = ['Hebron', 'Jerusalem', 'Nablus','Ramallah_Reef']\n",
    "\n",
    "    for accent in accents:\n",
    "        folder_path = os.path.join(base_path, accent)\n",
    "        for file_path in glob.glob(os.path.join(folder_path, '*.wav')):\n",
    "            y, sr = librosa.load(file_path, sr=None)\n",
    "            mfccs = librosa.feature.mfcc(y=y, sr=sr, n_mfcc=20)#we take 20 mfccs\n",
    "            mfccs_mean = np.mean(mfccs, axis=1)\n",
    "#           mfccs_delta = librosa.feature.delta(mfccs)\n",
    "#           mfccs_delta2 = librosa.feature.delta(mfccs, order=2)\n",
    "            features += [mfccs_mean]\n",
    "            labels.append(accent)\n",
    "\n",
    "    return np.array(features), np.array(labels)"
   ]
  },
  {
   "cell_type": "code",
   "execution_count": 418,
   "id": "5d356de9-552e-4468-aa3a-a3ab9d8fc638",
   "metadata": {},
   "outputs": [],
   "source": [
    "best_svm = None\n",
    "best_Kmeans = None"
   ]
  },
  {
   "cell_type": "code",
   "execution_count": 478,
   "id": "ccb97978-1895-42c6-9eac-fadafa2d7b1e",
   "metadata": {},
   "outputs": [],
   "source": [
    "data_saved = False # only trun this line if you've changed on the code that exctracts the features (.npy files have changed)."
   ]
  },
  {
   "cell_type": "code",
   "execution_count": 490,
   "id": "5e9cff9a-88bb-42d6-81d4-2bca2e4ad7d2",
   "metadata": {},
   "outputs": [],
   "source": [
    "data_saved = True # run this line if you want to read the features and labels directly from the .npy files."
   ]
  },
  {
   "cell_type": "code",
   "execution_count": 477,
   "id": "b0b0ee87-4bc0-4995-a8c6-4fb13ac5186d",
   "metadata": {},
   "outputs": [],
   "source": [
    "train_base_path = 'training' # can use 'training_segmented' to run the training data that is split into smaller speech files. \n",
    "test_base_path = 'testing' # same as above, but for the testing data.\n",
    "features_train, labels_train, features_test, labels_test = None, None, None, None"
   ]
  },
  {
   "cell_type": "markdown",
   "id": "1cd8a36d-83cf-4623-8c7a-d6615941a3cf",
   "metadata": {},
   "source": [
    "### A function that loads the .wav files into .npy files and assigns the features and labels for testing and training data."
   ]
  },
  {
   "cell_type": "code",
   "execution_count": 479,
   "id": "53c507a7-4f9e-4839-b1e0-4eb595a140be",
   "metadata": {},
   "outputs": [],
   "source": [
    "def read_save_data():\n",
    "    global data_saved\n",
    "    if not data_saved:\n",
    "        features_train, labels_train = load_audio_files(train_base_path)#training features and labels\n",
    "        features_test, labels_test = load_audio_files(test_base_path)# testing features and labels\n",
    "        np.save('features_train.npy', features_train)\n",
    "        np.save('labels_train.npy', labels_train)\n",
    "        np.save('features_test.npy', features_test)\n",
    "        np.save('labels_test.npy', labels_test)\n",
    "        data_saved = True"
   ]
  },
  {
   "cell_type": "markdown",
   "id": "dbe0c6a0-0b1b-4f1a-b7b8-d80689f3f2b6",
   "metadata": {},
   "source": [
    "### This section assigns features and labels for testsing and training data (using the above function or by reading the .npy if they already exist)"
   ]
  },
  {
   "cell_type": "code",
   "execution_count": 491,
   "id": "7e30d6be-6d34-423e-ae14-535d0af65942",
   "metadata": {},
   "outputs": [
    {
     "name": "stdout",
     "output_type": "stream",
     "text": [
      "data loaded successfully\n",
      "time taken = 0.02 seconds\n"
     ]
    }
   ],
   "source": [
    "t0 = time()\n",
    "if not data_saved:\n",
    "    read_save_data()\n",
    "    \n",
    "else: # data is saved to the .npy file and not changed (so we read it directly).\n",
    "    features_train = np.load('features_train.npy')\n",
    "    labels_train = np.load('labels_train.npy')\n",
    "    features_test = np.load('features_test.npy')\n",
    "    labels_test = np.load('labels_test.npy')\n",
    "    print('data loaded successfully')\n",
    "t1 = time()\n",
    "\n",
    "deltaT = (t1 - t0)\n",
    "print(f'time taken = {deltaT:.2f} seconds')"
   ]
  },
  {
   "cell_type": "markdown",
   "id": "dce3e832-6279-4609-98bb-5685b0873001",
   "metadata": {},
   "source": [
    "### this function is used to scale the features for both train and test data using StandardScaler"
   ]
  },
  {
   "cell_type": "code",
   "execution_count": 492,
   "id": "50b8102b-317a-46ff-9e7f-965574715b17",
   "metadata": {},
   "outputs": [],
   "source": [
    "def scale_values():\n",
    "    global features_train\n",
    "    global features_test\n",
    "    scaler = StandardScaler()\n",
    "    features_train = scaler.fit_transform(features_train)\n",
    "    features_test = scaler.transform(features_test)"
   ]
  },
  {
   "cell_type": "markdown",
   "id": "533b2a8c-12df-41cf-8a57-674db7f15b76",
   "metadata": {},
   "source": [
    "## This section is for the SVM model"
   ]
  },
  {
   "cell_type": "markdown",
   "id": "645f11ea-7a9e-4d75-a901-dd58d1465611",
   "metadata": {},
   "source": [
    "### this method is used to train the SVM models and choose the best model using grid search"
   ]
  },
  {
   "cell_type": "code",
   "execution_count": 493,
   "id": "77c1ad07-392b-4912-b407-0cb39d13ed60",
   "metadata": {},
   "outputs": [],
   "source": [
    "def choose_best_SVM():\n",
    "    global features_train\n",
    "    global labels_train\n",
    "    global best_svm\n",
    "    # Use Grid Search to find the best parameters for SVM\n",
    "    parameter_grid = {'C': [0.1, 1, 10], 'kernel': ['linear', 'rbf'], 'class_weight': ['balanced']}\n",
    "    \n",
    "    grid_search = GridSearchCV(SVC(), parameter_grid, cv=5)\n",
    "    grid_search.fit(features_train, labels_train)\n",
    "    # Get the best model from Grid Search\n",
    "    best_svm = grid_search.best_estimator_\n",
    "    print(grid_search.best_params_)\n"
   ]
  },
  {
   "cell_type": "markdown",
   "id": "3bc023d7-6efb-4900-b8b9-e2cd53f56b8b",
   "metadata": {},
   "source": [
    "### This method performs K-Means clustering on the training data"
   ]
  },
  {
   "cell_type": "code",
   "execution_count": 494,
   "id": "078a352c-afcb-4214-8975-e6027e7b1949",
   "metadata": {},
   "outputs": [],
   "source": [
    "def evaluate_SVM():\n",
    "    global best_svm\n",
    "    \"\"\"This method evaluates the best SVM , print the accuracy, confusion matrix and classification report\"\"\"\n",
    "    y_pred = best_svm.predict(features_test)\n",
    "    accuracy = accuracy_score(labels_test, y_pred)\n",
    "    print(f'Accuracy: {accuracy * 100:.2f}%')\n",
    "    # Print confusion matrix and classification report\n",
    "    cm_svm = confusion_matrix(labels_test, y_pred, labels=best_svm.classes_)\n",
    "    sns.heatmap(cm_svm, annot=True, fmt='d', xticklabels=best_svm.classes_, yticklabels=best_svm.classes_,cmap='binary', linewidths=1)\n",
    "    plt.xlabel('Predicted')\n",
    "    plt.ylabel('True')\n",
    "    plt.title('Confusion Matrix')\n",
    "    plt.show()\n",
    "    print(classification_report(labels_test, y_pred, target_names=best_svm.classes_))"
   ]
  },
  {
   "cell_type": "code",
   "execution_count": 495,
   "id": "c461f1c9-0650-4105-90fe-0854d027fc87",
   "metadata": {},
   "outputs": [
    {
     "name": "stdout",
     "output_type": "stream",
     "text": [
      "scaling values..\n",
      "scaling values done.\n"
     ]
    }
   ],
   "source": [
    "print('scaling values..')\n",
    "scale_values()\n",
    "print('scaling values done.')"
   ]
  },
  {
   "cell_type": "code",
   "execution_count": 496,
   "id": "8fe4c58b-caf1-47d0-9c59-1769d5f66588",
   "metadata": {},
   "outputs": [
    {
     "name": "stdout",
     "output_type": "stream",
     "text": [
      "choosing best SVM model..\n",
      "{'C': 1, 'class_weight': 'balanced', 'kernel': 'rbf'}\n",
      "choosing best SVM model done.\n"
     ]
    }
   ],
   "source": [
    "print('choosing best SVM model..')\n",
    "choose_best_SVM()\n",
    "print('choosing best SVM model done.')"
   ]
  },
  {
   "cell_type": "code",
   "execution_count": 497,
   "id": "692ec68f-7a6a-4c9b-8ea4-9ced831ed0d4",
   "metadata": {},
   "outputs": [
    {
     "name": "stdout",
     "output_type": "stream",
     "text": [
      "evaluating SVM model..\n",
      "Accuracy: 80.00%\n"
     ]
    },
    {
     "data": {
      "image/png": "[encoded data removed]",
      "text/plain": [
       "<Figure size 640x480 with 2 Axes>"
      ]
     },
     "metadata": {},
     "output_type": "display_data"
    },
    {
     "name": "stdout",
     "output_type": "stream",
     "text": [
      "               precision    recall  f1-score   support\n",
      "\n",
      "       Hebron       1.00      0.80      0.89         5\n",
      "    Jerusalem       0.83      1.00      0.91         5\n",
      "       Nablus       1.00      0.40      0.57         5\n",
      "Ramallah_Reef       0.62      1.00      0.77         5\n",
      "\n",
      "     accuracy                           0.80        20\n",
      "    macro avg       0.86      0.80      0.78        20\n",
      " weighted avg       0.86      0.80      0.78        20\n",
      "\n",
      "evaluating SVM model done.\n"
     ]
    }
   ],
   "source": [
    "print('evaluating SVM model..')\n",
    "evaluate_SVM()\n",
    "print('evaluating SVM model done.')"
   ]
  },
  {
   "cell_type": "markdown",
   "id": "47347b34-e0c9-476a-860c-675e5d711847",
   "metadata": {},
   "source": [
    "## this section is for the Neural Network model."
   ]
  },
  {
   "cell_type": "markdown",
   "id": "b79b952c-b5d9-417f-bb16-59e3b6318150",
   "metadata": {},
   "source": [
    "### import necessary functions"
   ]
  },
  {
   "cell_type": "code",
   "execution_count": 498,
   "id": "ec7e6744-bc5c-47d8-9f7b-6cfbaa716e06",
   "metadata": {},
   "outputs": [],
   "source": [
    "from sklearn.preprocessing import LabelEncoder\n",
    "from tensorflow.keras.utils import to_categorical\n",
    "from tensorflow.keras.models import Sequential\n",
    "from tensorflow.keras.layers import Dense, Dropout, Flatten, Conv2D, MaxPooling2D\n",
    "from sklearn.model_selection import GridSearchCV\n",
    "from sklearn.neural_network import MLPClassifier"
   ]
  },
  {
   "cell_type": "markdown",
   "id": "9be1943e-3515-4c5b-9b63-f6d26510d8cd",
   "metadata": {},
   "source": [
    "### Scale the features"
   ]
  },
  {
   "cell_type": "code",
   "execution_count": 499,
   "id": "c0338f9d-aae2-4a38-b6af-26ace4edd4d6",
   "metadata": {},
   "outputs": [],
   "source": [
    "scaler = StandardScaler()\n",
    "features_train_scaled = scaler.fit_transform(features_train)\n",
    "features_test_scaled = scaler.transform(features_test)"
   ]
  },
  {
   "cell_type": "markdown",
   "id": "c0888b20-1ba9-4e03-975b-2bd47bd2a738",
   "metadata": {},
   "source": [
    "### Convert labels to categorical (one-hot encoding)"
   ]
  },
  {
   "cell_type": "code",
   "execution_count": 500,
   "id": "e73745dd-1396-4009-b9de-1b6d4312f5cd",
   "metadata": {},
   "outputs": [],
   "source": [
    "label_encoder = LabelEncoder()\n",
    "labels_train_encoded = label_encoder.fit_transform(labels_train)\n",
    "labels_test_encoded = label_encoder.transform(labels_test)"
   ]
  },
  {
   "cell_type": "markdown",
   "id": "30baafb4-41b2-482b-9839-c60f89b4f9c0",
   "metadata": {},
   "source": [
    "### Define the parameter grid"
   ]
  },
  {
   "cell_type": "code",
   "execution_count": 501,
   "id": "a0505357-8946-44bf-90e9-bc4b5bfe9a2f",
   "metadata": {},
   "outputs": [],
   "source": [
    "param_grid = {\n",
    "    'hidden_layer_sizes': [(64,), (128,), (64, 32), (128, 64), (128, 64, 32)],\n",
    "    'learning_rate_init': [0.001, 0.01, 0.1, 0.2, 0.3, 0.4, 0.5],\n",
    "    'activation': ['relu', 'tanh', 'logistic', 'identity']\n",
    "}"
   ]
  },
  {
   "cell_type": "markdown",
   "id": "6e26ea57-75ff-40b3-b260-d27852479df7",
   "metadata": {},
   "source": [
    "### Create the MLP classifier"
   ]
  },
  {
   "cell_type": "code",
   "execution_count": 502,
   "id": "2f139a5d-781b-49d6-812f-0653b78bf773",
   "metadata": {},
   "outputs": [],
   "source": [
    "mlp = MLPClassifier(max_iter=100)"
   ]
  },
  {
   "cell_type": "markdown",
   "id": "147a51e0-84b9-420d-859e-57b4ab16c57d",
   "metadata": {},
   "source": [
    "### Perform Grid Search"
   ]
  },
  {
   "cell_type": "code",
   "execution_count": 503,
   "id": "311b0228-265b-4a9f-8ddf-8ebd31c36556",
   "metadata": {},
   "outputs": [],
   "source": [
    "grid_search = GridSearchCV(estimator=mlp, param_grid=param_grid, cv=5)\n",
    "grid_result = grid_search.fit(features_train_scaled, labels_train_encoded)"
   ]
  },
  {
   "cell_type": "markdown",
   "id": "3e7dac4f-8911-4c9e-b83e-6e60f6dea6ec",
   "metadata": {},
   "source": [
    "### Print the best parameters and the corresponding accuracy"
   ]
  },
  {
   "cell_type": "code",
   "execution_count": 504,
   "id": "f4b0fe61-94a7-42a4-bedf-21a0e0cc3592",
   "metadata": {},
   "outputs": [
    {
     "name": "stdout",
     "output_type": "stream",
     "text": [
      "Best Parameters:  {'activation': 'tanh', 'hidden_layer_sizes': (64,), 'learning_rate_init': 0.2}\n",
      "Best Accuracy:  0.75\n"
     ]
    }
   ],
   "source": [
    "print(\"Best Parameters: \", grid_result.best_params_)\n",
    "print(\"Best Accuracy: \", grid_result.best_score_)"
   ]
  },
  {
   "cell_type": "markdown",
   "id": "e3723009-91d8-4e2b-91b1-2174ec74d608",
   "metadata": {},
   "source": [
    "### Train the MLP classifier with the best parameters\n"
   ]
  },
  {
   "cell_type": "code",
   "execution_count": 525,
   "id": "4181eb2b-7535-4755-b832-218af95ba993",
   "metadata": {},
   "outputs": [
    {
     "data": {
      "text/html": [
       "<style>#sk-container-id-53 {\n",
       "  /* Definition of color scheme common for light and dark mode */\n",
       "  --sklearn-color-text: black;\n",
       "  --sklearn-color-line: gray;\n",
       "  /* Definition of color scheme for unfitted estimators */\n",
       "  --sklearn-color-unfitted-level-0: #fff5e6;\n",
       "  --sklearn-color-unfitted-level-1: #f6e4d2;\n",
       "  --sklearn-color-unfitted-level-2: #ffe0b3;\n",
       "  --sklearn-color-unfitted-level-3: chocolate;\n",
       "  /* Definition of color scheme for fitted estimators */\n",
       "  --sklearn-color-fitted-level-0: #f0f8ff;\n",
       "  --sklearn-color-fitted-level-1: #d4ebff;\n",
       "  --sklearn-color-fitted-level-2: #b3dbfd;\n",
       "  --sklearn-color-fitted-level-3: cornflowerblue;\n",
       "\n",
       "  /* Specific color for light theme */\n",
       "  --sklearn-color-text-on-default-background: var(--sg-text-color, var(--theme-code-foreground, var(--jp-content-font-color1, black)));\n",
       "  --sklearn-color-background: var(--sg-background-color, var(--theme-background, var(--jp-layout-color0, white)));\n",
       "  --sklearn-color-border-box: var(--sg-text-color, var(--theme-code-foreground, var(--jp-content-font-color1, black)));\n",
       "  --sklearn-color-icon: #696969;\n",
       "\n",
       "  @media (prefers-color-scheme: dark) {\n",
       "    /* Redefinition of color scheme for dark theme */\n",
       "    --sklearn-color-text-on-default-background: var(--sg-text-color, var(--theme-code-foreground, var(--jp-content-font-color1, white)));\n",
       "    --sklearn-color-background: var(--sg-background-color, var(--theme-background, var(--jp-layout-color0, #111)));\n",
       "    --sklearn-color-border-box: var(--sg-text-color, var(--theme-code-foreground, var(--jp-content-font-color1, white)));\n",
       "    --sklearn-color-icon: #878787;\n",
       "  }\n",
       "}\n",
       "\n",
       "#sk-container-id-53 {\n",
       "  color: var(--sklearn-color-text);\n",
       "}\n",
       "\n",
       "#sk-container-id-53 pre {\n",
       "  padding: 0;\n",
       "}\n",
       "\n",
       "#sk-container-id-53 input.sk-hidden--visually {\n",
       "  border: 0;\n",
       "  clip: rect(1px 1px 1px 1px);\n",
       "  clip: rect(1px, 1px, 1px, 1px);\n",
       "  height: 1px;\n",
       "  margin: -1px;\n",
       "  overflow: hidden;\n",
       "  padding: 0;\n",
       "  position: absolute;\n",
       "  width: 1px;\n",
       "}\n",
       "\n",
       "#sk-container-id-53 div.sk-dashed-wrapped {\n",
       "  border: 1px dashed var(--sklearn-color-line);\n",
       "  margin: 0 0.4em 0.5em 0.4em;\n",
       "  box-sizing: border-box;\n",
       "  padding-bottom: 0.4em;\n",
       "  background-color: var(--sklearn-color-background);\n",
       "}\n",
       "\n",
       "#sk-container-id-53 div.sk-container {\n",
       "  /* jupyter's `normalize.less` sets `[hidden] { display: none; }`\n",
       "     but bootstrap.min.css set `[hidden] { display: none !important; }`\n",
       "     so we also need the `!important` here to be able to override the\n",
       "     default hidden behavior on the sphinx rendered scikit-learn.org.\n",
       "     See: https://github.com/scikit-learn/scikit-learn/issues/21755 */\n",
       "  display: inline-block !important;\n",
       "  position: relative;\n",
       "}\n",
       "\n",
       "#sk-container-id-53 div.sk-text-repr-fallback {\n",
       "  display: none;\n",
       "}\n",
       "\n",
       "div.sk-parallel-item,\n",
       "div.sk-serial,\n",
       "div.sk-item {\n",
       "  /* draw centered vertical line to link estimators */\n",
       "  background-image: linear-gradient(var(--sklearn-color-text-on-default-background), var(--sklearn-color-text-on-default-background));\n",
       "  background-size: 2px 100%;\n",
       "  background-repeat: no-repeat;\n",
       "  background-position: center center;\n",
       "}\n",
       "\n",
       "/* Parallel-specific style estimator block */\n",
       "\n",
       "#sk-container-id-53 div.sk-parallel-item::after {\n",
       "  content: \"\";\n",
       "  width: 100%;\n",
       "  border-bottom: 2px solid var(--sklearn-color-text-on-default-background);\n",
       "  flex-grow: 1;\n",
       "}\n",
       "\n",
       "#sk-container-id-53 div.sk-parallel {\n",
       "  display: flex;\n",
       "  align-items: stretch;\n",
       "  justify-content: center;\n",
       "  background-color: var(--sklearn-color-background);\n",
       "  position: relative;\n",
       "}\n",
       "\n",
       "#sk-container-id-53 div.sk-parallel-item {\n",
       "  display: flex;\n",
       "  flex-direction: column;\n",
       "}\n",
       "\n",
       "#sk-container-id-53 div.sk-parallel-item:first-child::after {\n",
       "  align-self: flex-end;\n",
       "  width: 50%;\n",
       "}\n",
       "\n",
       "#sk-container-id-53 div.sk-parallel-item:last-child::after {\n",
       "  align-self: flex-start;\n",
       "  width: 50%;\n",
       "}\n",
       "\n",
       "#sk-container-id-53 div.sk-parallel-item:only-child::after {\n",
       "  width: 0;\n",
       "}\n",
       "\n",
       "/* Serial-specific style estimator block */\n",
       "\n",
       "#sk-container-id-53 div.sk-serial {\n",
       "  display: flex;\n",
       "  flex-direction: column;\n",
       "  align-items: center;\n",
       "  background-color: var(--sklearn-color-background);\n",
       "  padding-right: 1em;\n",
       "  padding-left: 1em;\n",
       "}\n",
       "\n",
       "\n",
       "/* Toggleable style: style used for estimator/Pipeline/ColumnTransformer box that is\n",
       "clickable and can be expanded/collapsed.\n",
       "- Pipeline and ColumnTransformer use this feature and define the default style\n",
       "- Estimators will overwrite some part of the style using the `sk-estimator` class\n",
       "*/\n",
       "\n",
       "/* Pipeline and ColumnTransformer style (default) */\n",
       "\n",
       "#sk-container-id-53 div.sk-toggleable {\n",
       "  /* Default theme specific background. It is overwritten whether we have a\n",
       "  specific estimator or a Pipeline/ColumnTransformer */\n",
       "  background-color: var(--sklearn-color-background);\n",
       "}\n",
       "\n",
       "/* Toggleable label */\n",
       "#sk-container-id-53 label.sk-toggleable__label {\n",
       "  cursor: pointer;\n",
       "  display: block;\n",
       "  width: 100%;\n",
       "  margin-bottom: 0;\n",
       "  padding: 0.5em;\n",
       "  box-sizing: border-box;\n",
       "  text-align: center;\n",
       "}\n",
       "\n",
       "#sk-container-id-53 label.sk-toggleable__label-arrow:before {\n",
       "  /* Arrow on the left of the label */\n",
       "  content: \"▸\";\n",
       "  float: left;\n",
       "  margin-right: 0.25em;\n",
       "  color: var(--sklearn-color-icon);\n",
       "}\n",
       "\n",
       "#sk-container-id-53 label.sk-toggleable__label-arrow:hover:before {\n",
       "  color: var(--sklearn-color-text);\n",
       "}\n",
       "\n",
       "/* Toggleable content - dropdown */\n",
       "\n",
       "#sk-container-id-53 div.sk-toggleable__content {\n",
       "  max-height: 0;\n",
       "  max-width: 0;\n",
       "  overflow: hidden;\n",
       "  text-align: left;\n",
       "  /* unfitted */\n",
       "  background-color: var(--sklearn-color-unfitted-level-0);\n",
       "}\n",
       "\n",
       "#sk-container-id-53 div.sk-toggleable__content.fitted {\n",
       "  /* fitted */\n",
       "  background-color: var(--sklearn-color-fitted-level-0);\n",
       "}\n",
       "\n",
       "#sk-container-id-53 div.sk-toggleable__content pre {\n",
       "  margin: 0.2em;\n",
       "  border-radius: 0.25em;\n",
       "  color: var(--sklearn-color-text);\n",
       "  /* unfitted */\n",
       "  background-color: var(--sklearn-color-unfitted-level-0);\n",
       "}\n",
       "\n",
       "#sk-container-id-53 div.sk-toggleable__content.fitted pre {\n",
       "  /* unfitted */\n",
       "  background-color: var(--sklearn-color-fitted-level-0);\n",
       "}\n",
       "\n",
       "#sk-container-id-53 input.sk-toggleable__control:checked~div.sk-toggleable__content {\n",
       "  /* Expand drop-down */\n",
       "  max-height: 200px;\n",
       "  max-width: 100%;\n",
       "  overflow: auto;\n",
       "}\n",
       "\n",
       "#sk-container-id-53 input.sk-toggleable__control:checked~label.sk-toggleable__label-arrow:before {\n",
       "  content: \"▾\";\n",
       "}\n",
       "\n",
       "/* Pipeline/ColumnTransformer-specific style */\n",
       "\n",
       "#sk-container-id-53 div.sk-label input.sk-toggleable__control:checked~label.sk-toggleable__label {\n",
       "  color: var(--sklearn-color-text);\n",
       "  background-color: var(--sklearn-color-unfitted-level-2);\n",
       "}\n",
       "\n",
       "#sk-container-id-53 div.sk-label.fitted input.sk-toggleable__control:checked~label.sk-toggleable__label {\n",
       "  background-color: var(--sklearn-color-fitted-level-2);\n",
       "}\n",
       "\n",
       "/* Estimator-specific style */\n",
       "\n",
       "/* Colorize estimator box */\n",
       "#sk-container-id-53 div.sk-estimator input.sk-toggleable__control:checked~label.sk-toggleable__label {\n",
       "  /* unfitted */\n",
       "  background-color: var(--sklearn-color-unfitted-level-2);\n",
       "}\n",
       "\n",
       "#sk-container-id-53 div.sk-estimator.fitted input.sk-toggleable__control:checked~label.sk-toggleable__label {\n",
       "  /* fitted */\n",
       "  background-color: var(--sklearn-color-fitted-level-2);\n",
       "}\n",
       "\n",
       "#sk-container-id-53 div.sk-label label.sk-toggleable__label,\n",
       "#sk-container-id-53 div.sk-label label {\n",
       "  /* The background is the default theme color */\n",
       "  color: var(--sklearn-color-text-on-default-background);\n",
       "}\n",
       "\n",
       "/* On hover, darken the color of the background */\n",
       "#sk-container-id-53 div.sk-label:hover label.sk-toggleable__label {\n",
       "  color: var(--sklearn-color-text);\n",
       "  background-color: var(--sklearn-color-unfitted-level-2);\n",
       "}\n",
       "\n",
       "/* Label box, darken color on hover, fitted */\n",
       "#sk-container-id-53 div.sk-label.fitted:hover label.sk-toggleable__label.fitted {\n",
       "  color: var(--sklearn-color-text);\n",
       "  background-color: var(--sklearn-color-fitted-level-2);\n",
       "}\n",
       "\n",
       "/* Estimator label */\n",
       "\n",
       "#sk-container-id-53 div.sk-label label {\n",
       "  font-family: monospace;\n",
       "  font-weight: bold;\n",
       "  display: inline-block;\n",
       "  line-height: 1.2em;\n",
       "}\n",
       "\n",
       "#sk-container-id-53 div.sk-label-container {\n",
       "  text-align: center;\n",
       "}\n",
       "\n",
       "/* Estimator-specific */\n",
       "#sk-container-id-53 div.sk-estimator {\n",
       "  font-family: monospace;\n",
       "  border: 1px dotted var(--sklearn-color-border-box);\n",
       "  border-radius: 0.25em;\n",
       "  box-sizing: border-box;\n",
       "  margin-bottom: 0.5em;\n",
       "  /* unfitted */\n",
       "  background-color: var(--sklearn-color-unfitted-level-0);\n",
       "}\n",
       "\n",
       "#sk-container-id-53 div.sk-estimator.fitted {\n",
       "  /* fitted */\n",
       "  background-color: var(--sklearn-color-fitted-level-0);\n",
       "}\n",
       "\n",
       "/* on hover */\n",
       "#sk-container-id-53 div.sk-estimator:hover {\n",
       "  /* unfitted */\n",
       "  background-color: var(--sklearn-color-unfitted-level-2);\n",
       "}\n",
       "\n",
       "#sk-container-id-53 div.sk-estimator.fitted:hover {\n",
       "  /* fitted */\n",
       "  background-color: var(--sklearn-color-fitted-level-2);\n",
       "}\n",
       "\n",
       "/* Specification for estimator info (e.g. \"i\" and \"?\") */\n",
       "\n",
       "/* Common style for \"i\" and \"?\" */\n",
       "\n",
       ".sk-estimator-doc-link,\n",
       "a:link.sk-estimator-doc-link,\n",
       "a:visited.sk-estimator-doc-link {\n",
       "  float: right;\n",
       "  font-size: smaller;\n",
       "  line-height: 1em;\n",
       "  font-family: monospace;\n",
       "  background-color: var(--sklearn-color-background);\n",
       "  border-radius: 1em;\n",
       "  height: 1em;\n",
       "  width: 1em;\n",
       "  text-decoration: none !important;\n",
       "  margin-left: 1ex;\n",
       "  /* unfitted */\n",
       "  border: var(--sklearn-color-unfitted-level-1) 1pt solid;\n",
       "  color: var(--sklearn-color-unfitted-level-1);\n",
       "}\n",
       "\n",
       ".sk-estimator-doc-link.fitted,\n",
       "a:link.sk-estimator-doc-link.fitted,\n",
       "a:visited.sk-estimator-doc-link.fitted {\n",
       "  /* fitted */\n",
       "  border: var(--sklearn-color-fitted-level-1) 1pt solid;\n",
       "  color: var(--sklearn-color-fitted-level-1);\n",
       "}\n",
       "\n",
       "/* On hover */\n",
       "div.sk-estimator:hover .sk-estimator-doc-link:hover,\n",
       ".sk-estimator-doc-link:hover,\n",
       "div.sk-label-container:hover .sk-estimator-doc-link:hover,\n",
       ".sk-estimator-doc-link:hover {\n",
       "  /* unfitted */\n",
       "  background-color: var(--sklearn-color-unfitted-level-3);\n",
       "  color: var(--sklearn-color-background);\n",
       "  text-decoration: none;\n",
       "}\n",
       "\n",
       "div.sk-estimator.fitted:hover .sk-estimator-doc-link.fitted:hover,\n",
       ".sk-estimator-doc-link.fitted:hover,\n",
       "div.sk-label-container:hover .sk-estimator-doc-link.fitted:hover,\n",
       ".sk-estimator-doc-link.fitted:hover {\n",
       "  /* fitted */\n",
       "  background-color: var(--sklearn-color-fitted-level-3);\n",
       "  color: var(--sklearn-color-background);\n",
       "  text-decoration: none;\n",
       "}\n",
       "\n",
       "/* Span, style for the box shown on hovering the info icon */\n",
       ".sk-estimator-doc-link span {\n",
       "  display: none;\n",
       "  z-index: 9999;\n",
       "  position: relative;\n",
       "  font-weight: normal;\n",
       "  right: .2ex;\n",
       "  padding: .5ex;\n",
       "  margin: .5ex;\n",
       "  width: min-content;\n",
       "  min-width: 20ex;\n",
       "  max-width: 50ex;\n",
       "  color: var(--sklearn-color-text);\n",
       "  box-shadow: 2pt 2pt 4pt #999;\n",
       "  /* unfitted */\n",
       "  background: var(--sklearn-color-unfitted-level-0);\n",
       "  border: .5pt solid var(--sklearn-color-unfitted-level-3);\n",
       "}\n",
       "\n",
       ".sk-estimator-doc-link.fitted span {\n",
       "  /* fitted */\n",
       "  background: var(--sklearn-color-fitted-level-0);\n",
       "  border: var(--sklearn-color-fitted-level-3);\n",
       "}\n",
       "\n",
       ".sk-estimator-doc-link:hover span {\n",
       "  display: block;\n",
       "}\n",
       "\n",
       "/* \"?\"-specific style due to the `<a>` HTML tag */\n",
       "\n",
       "#sk-container-id-53 a.estimator_doc_link {\n",
       "  float: right;\n",
       "  font-size: 1rem;\n",
       "  line-height: 1em;\n",
       "  font-family: monospace;\n",
       "  background-color: var(--sklearn-color-background);\n",
       "  border-radius: 1rem;\n",
       "  height: 1rem;\n",
       "  width: 1rem;\n",
       "  text-decoration: none;\n",
       "  /* unfitted */\n",
       "  color: var(--sklearn-color-unfitted-level-1);\n",
       "  border: var(--sklearn-color-unfitted-level-1) 1pt solid;\n",
       "}\n",
       "\n",
       "#sk-container-id-53 a.estimator_doc_link.fitted {\n",
       "  /* fitted */\n",
       "  border: var(--sklearn-color-fitted-level-1) 1pt solid;\n",
       "  color: var(--sklearn-color-fitted-level-1);\n",
       "}\n",
       "\n",
       "/* On hover */\n",
       "#sk-container-id-53 a.estimator_doc_link:hover {\n",
       "  /* unfitted */\n",
       "  background-color: var(--sklearn-color-unfitted-level-3);\n",
       "  color: var(--sklearn-color-background);\n",
       "  text-decoration: none;\n",
       "}\n",
       "\n",
       "#sk-container-id-53 a.estimator_doc_link.fitted:hover {\n",
       "  /* fitted */\n",
       "  background-color: var(--sklearn-color-fitted-level-3);\n",
       "}\n",
       "</style><div id=\"sk-container-id-53\" class=\"sk-top-container\"><div class=\"sk-text-repr-fallback\"><pre>MLPClassifier(activation=&#x27;tanh&#x27;, hidden_layer_sizes=(64,),\n",
       "              learning_rate_init=0.2, max_iter=100)</pre><b>In a Jupyter environment, please rerun this cell to show the HTML representation or trust the notebook. <br />On GitHub, the HTML representation is unable to render, please try loading this page with nbviewer.org.</b></div><div class=\"sk-container\" hidden><div class=\"sk-item\"><div class=\"sk-estimator fitted sk-toggleable\"><input class=\"sk-toggleable__control sk-hidden--visually\" id=\"sk-estimator-id-53\" type=\"checkbox\" checked><label for=\"sk-estimator-id-53\" class=\"sk-toggleable__label fitted sk-toggleable__label-arrow fitted\">&nbsp;&nbsp;MLPClassifier<a class=\"sk-estimator-doc-link fitted\" rel=\"noreferrer\" target=\"_blank\" href=\"https://scikit-learn.org/1.5/modules/generated/sklearn.neural_network.MLPClassifier.html\">?<span>Documentation for MLPClassifier</span></a><span class=\"sk-estimator-doc-link fitted\">i<span>Fitted</span></span></label><div class=\"sk-toggleable__content fitted\"><pre>MLPClassifier(activation=&#x27;tanh&#x27;, hidden_layer_sizes=(64,),\n",
       "              learning_rate_init=0.2, max_iter=100)</pre></div> </div></div></div></div>"
      ],
      "text/plain": [
       "MLPClassifier(activation='tanh', hidden_layer_sizes=(64,),\n",
       "              learning_rate_init=0.2, max_iter=100)"
      ]
     },
     "execution_count": 525,
     "metadata": {},
     "output_type": "execute_result"
    }
   ],
   "source": [
    "best_mlp = MLPClassifier(**grid_result.best_params_, max_iter=100)\n",
    "best_mlp.fit(features_train_scaled, labels_train_encoded)"
   ]
  },
  {
   "cell_type": "markdown",
   "id": "fd618e3c-29b7-4d63-9aa4-d9d47899c26d",
   "metadata": {},
   "source": [
    "### Evaluate the model\n"
   ]
  },
  {
   "cell_type": "code",
   "execution_count": 524,
   "id": "3afff991-29de-4664-a254-41f049cc9d31",
   "metadata": {},
   "outputs": [
    {
     "name": "stdout",
     "output_type": "stream",
     "text": [
      "Test Accuracy: 0.75\n"
     ]
    }
   ],
   "source": [
    "labels_pred = best_mlp.predict(features_test_scaled)\n",
    "accuracy = accuracy_score(labels_test_encoded, labels_pred)\n",
    "print(\"Test Accuracy:\", accuracy)"
   ]
  },
  {
   "cell_type": "markdown",
   "id": "d082335f-3699-4bad-bce7-56c4389f576b",
   "metadata": {},
   "source": [
    "### Print confusion matrix and classification report"
   ]
  },
  {
   "cell_type": "code",
   "execution_count": 441,
   "id": "47781ee9-96ac-4c34-b3b2-b5fbff1239a5",
   "metadata": {},
   "outputs": [
    {
     "data": {
      "image/png": "[encoded data removed]",
      "text/plain": [
       "<Figure size 640x480 with 2 Axes>"
      ]
     },
     "metadata": {},
     "output_type": "display_data"
    },
    {
     "name": "stdout",
     "output_type": "stream",
     "text": [
      "Classification Report:\n",
      "               precision    recall  f1-score   support\n",
      "\n",
      "       Hebron       0.55      0.93      0.69        30\n",
      "    Jerusalem       0.80      0.79      0.80       138\n",
      "       Nablus       0.37      0.25      0.30        60\n",
      "Ramallah_Reef       0.52      0.52      0.52        84\n",
      "\n",
      "     accuracy                           0.63       312\n",
      "    macro avg       0.56      0.62      0.58       312\n",
      " weighted avg       0.62      0.63      0.62       312\n",
      "\n"
     ]
    }
   ],
   "source": [
    "cm_nn = confusion_matrix(labels_test_encoded, labels_pred)\n",
    "sns.heatmap(cm_nn, annot=True, fmt='d', xticklabels=best_svm.classes_, yticklabels=best_svm.classes_,cmap='binary', linewidths=1)\n",
    "plt.xlabel('Predicted')\n",
    "plt.ylabel('True')\n",
    "plt.title('Confusion Matrix')\n",
    "plt.show()\n",
    "\n",
    "print(\"Classification Report:\")\n",
    "print(classification_report(labels_test_encoded, labels_pred, target_names=label_encoder.classes_))"
   ]
  }
 ],
 "metadata": {
  "kernelspec": {
   "display_name": "Python 3 (ipykernel)",
   "language": "python",
   "name": "python3"
  },
  "language_info": {
   "codemirror_mode": {
    "name": "ipython",
    "version": 3
   },
   "file_extension": ".py",
   "mimetype": "text/x-python",
   "name": "python",
   "nbconvert_exporter": "python",
   "pygments_lexer": "ipython3",
   "version": "3.11.9"
  }
 },
 "nbformat": 4,
 "nbformat_minor": 5
}
